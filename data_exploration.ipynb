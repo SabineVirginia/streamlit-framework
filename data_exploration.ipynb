{
 "cells": [
  {
   "cell_type": "code",
   "execution_count": 1,
   "metadata": {},
   "outputs": [],
   "source": [
    "import os\r\n",
    "import requests\r\n",
    "import pandas as pd\r\n",
    "from datetime import datetime\r\n",
    "from bokeh.plotting import figure, show"
   ]
  },
  {
   "cell_type": "code",
   "execution_count": 2,
   "metadata": {},
   "outputs": [],
   "source": [
    "API_key = os.environ.get('API_ALPHA_VANTAGE')\r\n",
    "ticker = 'AAPL'\r\n",
    "url = 'https://www.alphavantage.co/query?function=TIME_SERIES_DAILY&symbol={}&outputsize=full&apikey={}'.format(ticker,API_key)\r\n",
    "r = requests.get(url)\r\n",
    "data = r.json()"
   ]
  },
  {
   "cell_type": "code",
   "execution_count": 3,
   "metadata": {},
   "outputs": [
    {
     "data": {
      "text/html": [
       "<div>\n",
       "<style scoped>\n",
       "    .dataframe tbody tr th:only-of-type {\n",
       "        vertical-align: middle;\n",
       "    }\n",
       "\n",
       "    .dataframe tbody tr th {\n",
       "        vertical-align: top;\n",
       "    }\n",
       "\n",
       "    .dataframe thead th {\n",
       "        text-align: right;\n",
       "    }\n",
       "</style>\n",
       "<table border=\"1\" class=\"dataframe\">\n",
       "  <thead>\n",
       "    <tr style=\"text-align: right;\">\n",
       "      <th></th>\n",
       "      <th>Open</th>\n",
       "      <th>High</th>\n",
       "      <th>Low</th>\n",
       "      <th>Close</th>\n",
       "      <th>Volume</th>\n",
       "    </tr>\n",
       "  </thead>\n",
       "  <tbody>\n",
       "    <tr>\n",
       "      <th>1999-11-05</th>\n",
       "      <td>84.6200</td>\n",
       "      <td>88.3700</td>\n",
       "      <td>84.0000</td>\n",
       "      <td>88.3100</td>\n",
       "      <td>3721500</td>\n",
       "    </tr>\n",
       "    <tr>\n",
       "      <th>1999-11-04</th>\n",
       "      <td>82.0600</td>\n",
       "      <td>85.3700</td>\n",
       "      <td>80.6200</td>\n",
       "      <td>83.6200</td>\n",
       "      <td>3384700</td>\n",
       "    </tr>\n",
       "    <tr>\n",
       "      <th>1999-11-03</th>\n",
       "      <td>81.6200</td>\n",
       "      <td>83.2500</td>\n",
       "      <td>81.0000</td>\n",
       "      <td>81.5000</td>\n",
       "      <td>2932700</td>\n",
       "    </tr>\n",
       "    <tr>\n",
       "      <th>1999-11-02</th>\n",
       "      <td>78.0000</td>\n",
       "      <td>81.6900</td>\n",
       "      <td>77.3100</td>\n",
       "      <td>80.2500</td>\n",
       "      <td>3564600</td>\n",
       "    </tr>\n",
       "    <tr>\n",
       "      <th>1999-11-01</th>\n",
       "      <td>80.0000</td>\n",
       "      <td>80.6900</td>\n",
       "      <td>77.3700</td>\n",
       "      <td>77.6200</td>\n",
       "      <td>2487300</td>\n",
       "    </tr>\n",
       "  </tbody>\n",
       "</table>\n",
       "</div>"
      ],
      "text/plain": [
       "               Open     High      Low    Close   Volume\n",
       "1999-11-05  84.6200  88.3700  84.0000  88.3100  3721500\n",
       "1999-11-04  82.0600  85.3700  80.6200  83.6200  3384700\n",
       "1999-11-03  81.6200  83.2500  81.0000  81.5000  2932700\n",
       "1999-11-02  78.0000  81.6900  77.3100  80.2500  3564600\n",
       "1999-11-01  80.0000  80.6900  77.3700  77.6200  2487300"
      ]
     },
     "execution_count": 3,
     "metadata": {},
     "output_type": "execute_result"
    }
   ],
   "source": [
    "df = pd.DataFrame(data['Time Series (Daily)'])\r\n",
    "df = df.transpose(copy=True)\r\n",
    "df.columns = ['Open','High','Low','Close','Volume']\r\n",
    "df.index = pd.to_datetime(df.index)\r\n",
    "df.tail()"
   ]
  },
  {
   "cell_type": "code",
   "execution_count": 4,
   "metadata": {},
   "outputs": [
    {
     "data": {
      "text/plain": [
       "2021-02-26    121.2600\n",
       "2021-02-25    120.9900\n",
       "2021-02-24    125.3500\n",
       "2021-02-23    125.8600\n",
       "2021-02-22    126.0000\n",
       "Name: Close, dtype: object"
      ]
     },
     "execution_count": 4,
     "metadata": {},
     "output_type": "execute_result"
    }
   ],
   "source": [
    "close = df['Close']\r\n",
    "month = 'February'\r\n",
    "year = '2021'\r\n",
    "select_close = close.loc[month+' '+year]\r\n",
    "select_close.head()"
   ]
  },
  {
   "cell_type": "code",
   "execution_count": 5,
   "metadata": {},
   "outputs": [],
   "source": [
    "fig = figure(x_axis_type='datetime', title=ticker+' '+'Close Price,'+month+' '+year, x_axis_label='Date', y_axis_label='Price')\r\n",
    "x = select_close.index\r\n",
    "y = select_close.values\r\n",
    "fig.line(x, y, legend_label='Close', line_width=2)\r\n",
    "show(fig)"
   ]
  }
 ],
 "metadata": {
  "interpreter": {
   "hash": "164a22950166183fbfb054ce0c1eee17da87cad9a0370fd7507852b774471580"
  },
  "kernelspec": {
   "display_name": "Python 3.9.5 64-bit ('venv': venv)",
   "name": "python3"
  },
  "language_info": {
   "name": "python",
   "version": ""
  },
  "orig_nbformat": 4
 },
 "nbformat": 4,
 "nbformat_minor": 2
}